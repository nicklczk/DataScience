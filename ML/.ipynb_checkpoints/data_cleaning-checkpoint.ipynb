{
 "cells": [
  {
   "cell_type": "markdown",
   "metadata": {},
   "source": [
    "** First import all libraries **"
   ]
  },
  {
   "cell_type": "code",
   "execution_count": 2,
   "metadata": {},
   "outputs": [
    {
     "name": "stdout",
     "output_type": "stream",
     "text": [
      "Using matplotlib backend: MacOSX\n",
      "Populating the interactive namespace from numpy and matplotlib\n"
     ]
    }
   ],
   "source": [
    "%pylab\n",
    "%matplotlib inline\n",
    "import pandas as pd\n",
    "import seaborn as sns\n",
    "sns.set(style=\"white\")\n",
    "\n",
    "# import library for ML\n",
    "import sklearn\n",
    "from sklearn import preprocessing\n",
    "from sklearn.model_selection import train_test_split\n",
    "from sklearn.metrics import accuracy_score\n",
    "from sklearn.model_selection import cross_val_score\n",
    "from sklearn.metrics import confusion_matrix\n",
    "from sklearn import svm\n",
    "from sklearn.neighbors import KNeighborsClassifier\n",
    "from sklearn import tree"
   ]
  },
  {
   "cell_type": "markdown",
   "metadata": {},
   "source": [
    "## Data Acquision and Cleaning\n",
    "---\n",
    "---\n",
    "We will describe data collection and cleaning part here. We have collected two datasets, one for **heart-disease-death** and another one for **Social Vulnerability Index (SVI)**."
   ]
  },
  {
   "cell_type": "markdown",
   "metadata": {},
   "source": [
    "### Heart rate disease dataset\n",
    "---"
   ]
  },
  {
   "cell_type": "markdown",
   "metadata": {},
   "source": [
    "### Read data\n",
    "This data has several columns. However, for our purpose, the final data will have three columns: `COUNTY`, `STATE`, `RATE` (death rate from heart disease per 10,000 people)"
   ]
  },
  {
   "cell_type": "code",
   "execution_count": 3,
   "metadata": {},
   "outputs": [
    {
     "name": "stdout",
     "output_type": "stream",
     "text": [
      "Column names in the original dataset\n",
      "Index(['Year', 'LocationAbbr', 'LocationDesc', 'GeographicLevel', 'DataSource',\n",
      "       'Class', 'Topic', 'Data_Value', 'Data_Value_Unit', 'Data_Value_Type',\n",
      "       'Data_Value_Footnote_Symbol', 'Data_Value_Footnote',\n",
      "       'StratificationCategory1', 'Stratification1', 'StratificationCategory2',\n",
      "       'Stratification2', 'TopicID', 'LocationID', 'Location 1'],\n",
      "      dtype='object')\n"
     ]
    }
   ],
   "source": [
    "hd_filename = \"./Heart_Disease_Mortality_Data_Among_US_Adults__35___by_State_Territory_and_County.xls\"\n",
    "df_xls = pd.read_excel(hd_filename)  # original dataset\n",
    "# get data for 'overall' gender and 'overall' ethnicity\n",
    "df_xls = df_xls[(df_xls['Stratification1']=='Overall') & (df_xls['Stratification2']=='Overall')]\n",
    "print(\"Column names in the original dataset\")\n",
    "print(df_xls.columns)"
   ]
  },
  {
   "cell_type": "markdown",
   "metadata": {},
   "source": [
    "### Clean data"
   ]
  },
  {
   "cell_type": "code",
   "execution_count": 4,
   "metadata": {},
   "outputs": [
    {
     "data": {
      "text/html": [
       "<div>\n",
       "<style scoped>\n",
       "    .dataframe tbody tr th:only-of-type {\n",
       "        vertical-align: middle;\n",
       "    }\n",
       "\n",
       "    .dataframe tbody tr th {\n",
       "        vertical-align: top;\n",
       "    }\n",
       "\n",
       "    .dataframe thead th {\n",
       "        text-align: right;\n",
       "    }\n",
       "</style>\n",
       "<table border=\"1\" class=\"dataframe\">\n",
       "  <thead>\n",
       "    <tr style=\"text-align: right;\">\n",
       "      <th></th>\n",
       "      <th>COUNTY</th>\n",
       "      <th>STATE</th>\n",
       "      <th>RATE</th>\n",
       "    </tr>\n",
       "  </thead>\n",
       "  <tbody>\n",
       "    <tr>\n",
       "      <td>0</td>\n",
       "      <td>aleutians east</td>\n",
       "      <td>AK</td>\n",
       "      <td>105.3</td>\n",
       "    </tr>\n",
       "    <tr>\n",
       "      <td>1</td>\n",
       "      <td>aleutians west</td>\n",
       "      <td>AK</td>\n",
       "      <td>211.9</td>\n",
       "    </tr>\n",
       "    <tr>\n",
       "      <td>2</td>\n",
       "      <td>anchorage</td>\n",
       "      <td>AK</td>\n",
       "      <td>257.9</td>\n",
       "    </tr>\n",
       "    <tr>\n",
       "      <td>3</td>\n",
       "      <td>bethel</td>\n",
       "      <td>AK</td>\n",
       "      <td>351.6</td>\n",
       "    </tr>\n",
       "    <tr>\n",
       "      <td>4</td>\n",
       "      <td>bristol bay</td>\n",
       "      <td>AK</td>\n",
       "      <td>NaN</td>\n",
       "    </tr>\n",
       "  </tbody>\n",
       "</table>\n",
       "</div>"
      ],
      "text/plain": [
       "           COUNTY STATE   RATE\n",
       "0  aleutians east    AK  105.3\n",
       "1  aleutians west    AK  211.9\n",
       "2       anchorage    AK  257.9\n",
       "3          bethel    AK  351.6\n",
       "4     bristol bay    AK    NaN"
      ]
     },
     "execution_count": 4,
     "metadata": {},
     "output_type": "execute_result"
    }
   ],
   "source": [
    "df = pd.DataFrame()\n",
    "df['COUNTY'] = df_xls.LocationDesc.apply(lambda name: name.lower().replace(\"county\", \"\").strip())\n",
    "df['STATE'] = df_xls.LocationAbbr\n",
    "df['RATE'] = df_xls.Data_Value\n",
    "df_hr = df.dropna()  # clean data\n",
    "df_hr = df_hr.sort_values(by=['STATE', 'COUNTY'])\n",
    "df.head()\n"
   ]
  },
  {
   "cell_type": "markdown",
   "metadata": {},
   "source": [
    "### SVI data\n",
    "---"
   ]
  },
  {
   "cell_type": "markdown",
   "metadata": {},
   "source": [
    "### Read data"
   ]
  },
  {
   "cell_type": "code",
   "execution_count": 5,
   "metadata": {},
   "outputs": [],
   "source": [
    "svi_filename = \"./SVI2014_US_CNTY.csv\"\n",
    "df_xls_svi = pd.read_csv(svi_filename)"
   ]
  },
  {
   "cell_type": "markdown",
   "metadata": {},
   "source": [
    "### Clean Data\n",
    "\n",
    "This is a large dataset. The metrics that will be in the analysis: \n",
    "\n",
    "1. `EP_POV` (person below povert estimate), \n",
    "2. `EP_UNEMP` (civilian unemployed), \n",
    "3. `EP_PCI` (per capita income), \n",
    "4. `EP_NOHSDP` (person with no high school diploma), \n",
    "5. `EP_AGE65` (person age 65+), \n",
    "6. `EP_AGE17` (17+), \n",
    "7. `EP_SNGPNT` (single parent household with one children), \n",
    "8. `EP_MINRTY` (minority estimate except white, non-hispanic), \n",
    "9. `EP_LIMENG` (person who speaks English less than well), \n",
    "10. `EP_NOVEH` (household with no vehicle), \n",
    "11. `EP_GROUPQ` (person in group quarters), \n",
    "12. `E_TOTPOP` (total population).\n",
    "\n",
    "All values are in percentage `[0-100]` except `E_TOTPOP` and `EP_PCI`."
   ]
  },
  {
   "cell_type": "code",
   "execution_count": 6,
   "metadata": {},
   "outputs": [],
   "source": [
    "ep_to_name = {\n",
    "    \"E_TOTPOP\": \"Total Population\", \"EP_POV\" : \"Poverty\", \"EP_UNEMP\" : \"Unemployment\", \n",
    "    \"EP_PCI\" : \"Per Capita Income\", \"EP_NOHSDP\" : \"No High School Diploma\", \n",
    "    \"EP_AGE65\" : \"Population Above Age 65\", \"EP_AGE17\" : \"Population Above Age 17\", \n",
    "    \"EP_SNGPNT\" : \"Single Parent Household\", \"EP_MINRTY\" : \"Minority\", \n",
    "    \"EP_LIMENG\" : \"Limited English\", \"EP_NOVEH\" : \"No Vehicle\", \"EP_GROUPQ\" : \"Group Quarter\"\n",
    "}"
   ]
  },
  {
   "cell_type": "code",
   "execution_count": 7,
   "metadata": {},
   "outputs": [
    {
     "data": {
      "text/html": [
       "<div>\n",
       "<style scoped>\n",
       "    .dataframe tbody tr th:only-of-type {\n",
       "        vertical-align: middle;\n",
       "    }\n",
       "\n",
       "    .dataframe tbody tr th {\n",
       "        vertical-align: top;\n",
       "    }\n",
       "\n",
       "    .dataframe thead th {\n",
       "        text-align: right;\n",
       "    }\n",
       "</style>\n",
       "<table border=\"1\" class=\"dataframe\">\n",
       "  <thead>\n",
       "    <tr style=\"text-align: right;\">\n",
       "      <th></th>\n",
       "      <th>STATE</th>\n",
       "      <th>COUNTY</th>\n",
       "      <th>E_TOTPOP</th>\n",
       "      <th>EP_POV</th>\n",
       "      <th>EP_UNEMP</th>\n",
       "      <th>EP_PCI</th>\n",
       "      <th>EP_NOHSDP</th>\n",
       "      <th>EP_AGE65</th>\n",
       "      <th>EP_AGE17</th>\n",
       "      <th>EP_SNGPNT</th>\n",
       "      <th>EP_MINRTY</th>\n",
       "      <th>EP_LIMENG</th>\n",
       "      <th>EP_NOVEH</th>\n",
       "      <th>EP_GROUPQ</th>\n",
       "    </tr>\n",
       "  </thead>\n",
       "  <tbody>\n",
       "    <tr>\n",
       "      <td>67</td>\n",
       "      <td>AK</td>\n",
       "      <td>aleutians east</td>\n",
       "      <td>3296.0</td>\n",
       "      <td>16.4</td>\n",
       "      <td>2.2</td>\n",
       "      <td>27122.0</td>\n",
       "      <td>20.5</td>\n",
       "      <td>5.1</td>\n",
       "      <td>11.3</td>\n",
       "      <td>14.9</td>\n",
       "      <td>86.2</td>\n",
       "      <td>13.3</td>\n",
       "      <td>21.5</td>\n",
       "      <td>57.5</td>\n",
       "    </tr>\n",
       "    <tr>\n",
       "      <td>68</td>\n",
       "      <td>AK</td>\n",
       "      <td>aleutians west</td>\n",
       "      <td>5650.0</td>\n",
       "      <td>8.9</td>\n",
       "      <td>2.7</td>\n",
       "      <td>32700.0</td>\n",
       "      <td>14.5</td>\n",
       "      <td>5.7</td>\n",
       "      <td>16.3</td>\n",
       "      <td>9.9</td>\n",
       "      <td>71.1</td>\n",
       "      <td>9.1</td>\n",
       "      <td>15.9</td>\n",
       "      <td>30.4</td>\n",
       "    </tr>\n",
       "    <tr>\n",
       "      <td>69</td>\n",
       "      <td>AK</td>\n",
       "      <td>anchorage</td>\n",
       "      <td>298178.0</td>\n",
       "      <td>8.3</td>\n",
       "      <td>6.9</td>\n",
       "      <td>36508.0</td>\n",
       "      <td>7.5</td>\n",
       "      <td>8.1</td>\n",
       "      <td>25.4</td>\n",
       "      <td>11.0</td>\n",
       "      <td>38.9</td>\n",
       "      <td>2.4</td>\n",
       "      <td>6.0</td>\n",
       "      <td>2.8</td>\n",
       "    </tr>\n",
       "    <tr>\n",
       "      <td>70</td>\n",
       "      <td>AK</td>\n",
       "      <td>bethel</td>\n",
       "      <td>17576.0</td>\n",
       "      <td>23.7</td>\n",
       "      <td>17.3</td>\n",
       "      <td>18875.0</td>\n",
       "      <td>19.8</td>\n",
       "      <td>6.2</td>\n",
       "      <td>35.9</td>\n",
       "      <td>16.6</td>\n",
       "      <td>88.7</td>\n",
       "      <td>3.4</td>\n",
       "      <td>57.0</td>\n",
       "      <td>2.0</td>\n",
       "    </tr>\n",
       "    <tr>\n",
       "      <td>71</td>\n",
       "      <td>AK</td>\n",
       "      <td>bristol bay</td>\n",
       "      <td>995.0</td>\n",
       "      <td>7.2</td>\n",
       "      <td>5.5</td>\n",
       "      <td>37012.0</td>\n",
       "      <td>8.8</td>\n",
       "      <td>6.7</td>\n",
       "      <td>26.5</td>\n",
       "      <td>12.3</td>\n",
       "      <td>46.5</td>\n",
       "      <td>0.0</td>\n",
       "      <td>9.8</td>\n",
       "      <td>0.7</td>\n",
       "    </tr>\n",
       "  </tbody>\n",
       "</table>\n",
       "</div>"
      ],
      "text/plain": [
       "   STATE          COUNTY  E_TOTPOP  EP_POV  EP_UNEMP   EP_PCI  EP_NOHSDP  \\\n",
       "67    AK  aleutians east    3296.0    16.4       2.2  27122.0       20.5   \n",
       "68    AK  aleutians west    5650.0     8.9       2.7  32700.0       14.5   \n",
       "69    AK       anchorage  298178.0     8.3       6.9  36508.0        7.5   \n",
       "70    AK          bethel   17576.0    23.7      17.3  18875.0       19.8   \n",
       "71    AK     bristol bay     995.0     7.2       5.5  37012.0        8.8   \n",
       "\n",
       "    EP_AGE65  EP_AGE17  EP_SNGPNT  EP_MINRTY  EP_LIMENG  EP_NOVEH  EP_GROUPQ  \n",
       "67       5.1      11.3       14.9       86.2       13.3      21.5       57.5  \n",
       "68       5.7      16.3        9.9       71.1        9.1      15.9       30.4  \n",
       "69       8.1      25.4       11.0       38.9        2.4       6.0        2.8  \n",
       "70       6.2      35.9       16.6       88.7        3.4      57.0        2.0  \n",
       "71       6.7      26.5       12.3       46.5        0.0       9.8        0.7  "
      ]
     },
     "execution_count": 7,
     "metadata": {},
     "output_type": "execute_result"
    }
   ],
   "source": [
    "columns_to_chose = [\"ST_ABBR\", \"COUNTY\", \"E_TOTPOP\", \"EP_POV\", \"EP_UNEMP\", \n",
    "                    \"EP_PCI\", \"EP_NOHSDP\", \"EP_AGE65\", \"EP_AGE17\", \"EP_SNGPNT\", \"EP_MINRTY\", \n",
    "                    \"EP_LIMENG\", \"EP_NOVEH\", \"EP_GROUPQ\"]\n",
    "df_svi = df_xls_svi.filter(columns_to_chose).dropna()\n",
    "df_svi['COUNTY'] = df_xls_svi.COUNTY.apply(lambda name: name.lower().replace(\"county\", \"\").strip())\n",
    "df_svi = df_svi.rename(columns={\"ST_ABBR\": \"STATE\"})\n",
    "df_svi = df_svi.sort_values(by=['STATE', 'COUNTY'])\n",
    "df_svi.head()\n",
    "\n"
   ]
  },
  {
   "cell_type": "markdown",
   "metadata": {},
   "source": [
    "### Show correlation among different metrics\n",
    "\n",
    "Here, we show correlation among different columns of the dataset"
   ]
  },
  {
   "cell_type": "code",
   "execution_count": 8,
   "metadata": {},
   "outputs": [
    {
     "data": {
      "text/plain": [
       "<matplotlib.axes._subplots.AxesSubplot at 0x1a1da91410>"
      ]
     },
     "execution_count": 8,
     "metadata": {},
     "output_type": "execute_result"
    },
    {
     "data": {
      "image/png": "[encoded data removed]",
      "text/plain": [
       "<Figure size 792x648 with 2 Axes>"
      ]
     },
     "metadata": {
      "needs_background": "light"
     },
     "output_type": "display_data"
    }
   ],
   "source": [
    "df_svi_ep = df_svi.filter(regex='EP') / 100.  # normalize\n",
    "corr = df_svi_ep.corr()\n",
    "# plot correlation matrix\n",
    "# Set up the matplotlib figure\n",
    "f, ax = plt.subplots(figsize=(11, 9))\n",
    "# Generate a custom diverging colormap\n",
    "cmap = sns.diverging_palette(220, 10, as_cmap=True)\n",
    "# Generate a mask for the upper triangle\n",
    "mask = np.zeros_like(corr, dtype=np.bool)\n",
    "mask[np.triu_indices_from(mask)] = True\n",
    "# Draw the heatmap with the mask and correct aspect ratio\n",
    "plt.figure(1)\n",
    "sns.heatmap(corr, mask=mask, cmap=cmap, vmax=.8, center=0,\n",
    "            square=True, linewidths=.5, cbar_kws={\"shrink\": .5})"
   ]
  },
  {
   "cell_type": "markdown",
   "metadata": {},
   "source": [
    "From the heatmap, we can have some interesting findings:\n",
    "\n",
    "- There is high correlation between EP_UNEMP and EP_POV, *i.e.*, poverty and unemploymet rate highly correlates. Same goes for poverty vs no-high-school-diploma.\n",
    "- High correlation between minority population (EP_MINRTY) and limited English (EP_LIMENG), minority population and no vehicle in household(EP_NOVEH), minority population and single parent household (EP_SNGPNT)\n",
    "- High correlation between single parent household and poverty, which is interesting, as this is generally reversed in developing nations."
   ]
  },
  {
   "cell_type": "markdown",
   "metadata": {},
   "source": [
    "### Merge two datasets\n",
    "\n",
    "In this section, we merge two datasets together. We only filter those values that are common in both datasets.\n"
   ]
  },
  {
   "cell_type": "code",
   "execution_count": 9,
   "metadata": {},
   "outputs": [],
   "source": [
    "# Merge two different datasets along 'STATE' and 'COUNTY'\n",
    "df_merge = pd.merge(df_hr, df_svi, on=['COUNTY', 'STATE'])\n",
    "df_merge = df_merge.dropna()"
   ]
  },
  {
   "cell_type": "markdown",
   "metadata": {},
   "source": [
    "### Correlation with Heart-disease-death-rate\n",
    "\n",
    "Here, we show the correlation between different factors in SVI with heart-disease-death-rate"
   ]
  },
  {
   "cell_type": "code",
   "execution_count": 11,
   "metadata": {},
   "outputs": [
    {
     "data": {
      "image/png": "[encoded data removed]",
      "text/plain": [
       "<Figure size 432x288 with 2 Axes>"
      ]
     },
     "metadata": {
      "needs_background": "light"
     },
     "output_type": "display_data"
    }
   ],
   "source": [
    "# Plot heatmap of heart-rate disease vs EP_*\n",
    "\n",
    "df_merge_ep = df_merge.filter(regex='EP') / 100.  # normalize\n",
    "df_merge_ep = df_merge_ep.rename(columns=ep_to_name)\n",
    "corr = df_merge_ep.corrwith(df_merge.RATE)\n",
    "f, ax = plt.subplots()\n",
    "# Generate a custom diverging colormap\n",
    "cmap = sns.diverging_palette(220, 10, as_cmap=True)\n",
    "# Draw the heatmap with the mask and correct aspect ratio\n",
    "corr = pd.DataFrame(corr, columns=[\"HEART-DISEASE-RATE\"])\n",
    "cmap = sns.diverging_palette(220, 10, as_cmap=True)\n",
    "\n",
    "sns.heatmap(corr, annot=True, fmt=\".2f\", cmap=cmap, ax=ax)\n",
    "plt.autoscale()\n",
    "\n"
   ]
  },
  {
   "cell_type": "markdown",
   "metadata": {},
   "source": [
    "Some findings from the heat-map:\n",
    "\n",
    "- Heart-disease-death-rate highly correlates with **poverty** and **no-high-school-diploma-household** \n",
    "- Heart-disease-death-rate inversely correlates with **per-capita-income** and **limited-English-speaking-ability**"
   ]
  },
  {
   "cell_type": "markdown",
   "metadata": {},
   "source": [
    "# Machine Learning Part\n",
    "---"
   ]
  },
  {
   "cell_type": "markdown",
   "metadata": {},
   "source": [
    "## Data Preprocessing\n",
    "---"
   ]
  },
  {
   "cell_type": "code",
   "execution_count": 79,
   "metadata": {},
   "outputs": [
    {
     "data": {
      "text/plain": [
       "low       373\n",
       "medium    483\n",
       "high      254\n",
       "Name: RATE_CAT, dtype: int64"
      ]
     },
     "execution_count": 79,
     "metadata": {},
     "output_type": "execute_result"
    }
   ],
   "source": [
    "# Convert heart rate disease values to categorical values\n",
    "df_merge['RATE_CAT'] = pd.cut(df_merge.RATE.values, bins=[0, 320, 420, 800],\n",
    "            labels=[\"low\", \"medium\", \"high\"])\n",
    "df_merge['RATE_CAT'].value_counts(sort=False)"
   ]
  },
  {
   "cell_type": "code",
   "execution_count": 80,
   "metadata": {},
   "outputs": [],
   "source": [
    "# get feature and target\n",
    "feature_columns = [\"E_TOTPOP\", \"EP_POV\", \"EP_UNEMP\", \"EP_PCI\", \"EP_NOHSDP\", \"EP_AGE65\", \"EP_AGE17\", \"EP_SNGPNT\", \"EP_MINRTY\", \"EP_LIMENG\", \"EP_NOVEH\", \"EP_GROUPQ\"]\n",
    "target_column = [\"RATE_CAT\"]\n",
    "X = df_merge.loc[:, feature_columns]\n",
    "X_scale = preprocessing.scale(X)\n",
    "Y = df_merge.loc[:, target_column].values.ravel()\n",
    "le = preprocessing.LabelEncoder()\n",
    "Y = le.fit_transform(Y)\n",
    "n_target = len(np.unique(Y))\n"
   ]
  },
  {
   "cell_type": "code",
   "execution_count": 81,
   "metadata": {},
   "outputs": [
    {
     "name": "stdout",
     "output_type": "stream",
     "text": [
      "train sample:  777\n",
      "test sample:  333\n"
     ]
    }
   ],
   "source": [
    "# test train split\n",
    "X_train, X_test, Y_train, Y_test = train_test_split(X_scale, Y, test_size=0.3, random_state=1)\n",
    "print(\"train sample: \", X_train.shape[0])\n",
    "print(\"test sample: \", X_test.shape[0])\n"
   ]
  },
  {
   "cell_type": "markdown",
   "metadata": {},
   "source": [
    "### SVM Classification\n",
    "---"
   ]
  },
  {
   "cell_type": "code",
   "execution_count": 82,
   "metadata": {},
   "outputs": [
    {
     "data": {
      "text/plain": [
       "SVC(C=1.0, cache_size=200, class_weight=None, coef0=0.0,\n",
       "    decision_function_shape='ovo', degree=3, gamma='scale', kernel='rbf',\n",
       "    max_iter=-1, probability=False, random_state=None, shrinking=True,\n",
       "    tol=0.001, verbose=False)"
      ]
     },
     "execution_count": 82,
     "metadata": {},
     "output_type": "execute_result"
    }
   ],
   "source": [
    "## SVM model\n",
    "\n",
    "clf = svm.SVC(gamma='scale', decision_function_shape='ovo')\n",
    "clf.fit(X_train, Y_train)\n",
    " "
   ]
  },
  {
   "cell_type": "code",
   "execution_count": 83,
   "metadata": {},
   "outputs": [
    {
     "name": "stdout",
     "output_type": "stream",
     "text": [
      "Accuracy : 0.6636636636636637\n"
     ]
    }
   ],
   "source": [
    "y_pred = clf.predict(X_test)\n",
    "_score = accuracy_score(Y_test, y_pred, normalize=True)\n",
    "print(\"Accuracy :\", _score)"
   ]
  },
  {
   "cell_type": "markdown",
   "metadata": {},
   "source": [
    "From SVM classifier, we can get around **67%** classification accuracy"
   ]
  },
  {
   "cell_type": "code",
   "execution_count": 84,
   "metadata": {},
   "outputs": [],
   "source": [
    "# helper function\n",
    "\n",
    "from sklearn.utils.multiclass import unique_labels\n",
    "def plot_confusion_matrix(y_true, y_pred, classes,\n",
    "                          normalize=False,\n",
    "                          title=None,\n",
    "                          cmap=plt.cm.Blues):\n",
    "    \"\"\"\n",
    "    This function prints and plots the confusion matrix.\n",
    "    Normalization can be applied by setting `normalize=True`.\n",
    "    \"\"\"\n",
    "    if not title:\n",
    "        if normalize:\n",
    "            title = 'Normalized confusion matrix'\n",
    "        else:\n",
    "            title = 'Confusion matrix, without normalization'\n",
    "\n",
    "    # Compute confusion matrix\n",
    "    cm = confusion_matrix(y_true, y_pred)\n",
    "    # Only use the labels that appear in the data\n",
    "    classes = classes[unique_labels(y_true, y_pred)]\n",
    "    if normalize:\n",
    "        cm = cm.astype('float') / cm.sum(axis=1)[:, np.newaxis]\n",
    "        print(\"Normalized confusion matrix\")\n",
    "    else:\n",
    "        print('Confusion matrix, without normalization')\n",
    "\n",
    "    print(cm)\n",
    "\n",
    "    fig, ax = plt.subplots(figsize=(5,5))\n",
    "    im = ax.imshow(cm, interpolation='nearest', cmap=cmap)\n",
    "    ax.figure.colorbar(im, ax=ax)\n",
    "    # We want to show all ticks...\n",
    "    ax.set(xticks=np.arange(cm.shape[1]),\n",
    "           yticks=np.arange(cm.shape[0]),\n",
    "           # ... and label them with the respective list entries\n",
    "           xticklabels=classes, yticklabels=classes,\n",
    "           title=title,\n",
    "           ylabel='True label',\n",
    "           xlabel='Predicted label')\n",
    "\n",
    "    # Rotate the tick labels and set their alignment.\n",
    "    plt.setp(ax.get_xticklabels(), rotation=45, ha=\"right\",\n",
    "             rotation_mode=\"anchor\")\n",
    "\n",
    "    # Loop over data dimensions and create text annotations.\n",
    "    fmt = '.2f' if normalize else 'd'\n",
    "    thresh = cm.max() / 2.\n",
    "    for i in range(cm.shape[0]):\n",
    "        for j in range(cm.shape[1]):\n",
    "            ax.text(j, i, format(cm[i, j], fmt),\n",
    "                    ha=\"center\", va=\"center\",\n",
    "                    color=\"white\" if cm[i, j] > thresh else \"black\")\n",
    "    fig.tight_layout()\n",
    "    plt.autoscale()\n",
    "    return ax"
   ]
  },
  {
   "cell_type": "markdown",
   "metadata": {},
   "source": [
    "### Plot Confusion-matrix"
   ]
  },
  {
   "cell_type": "code",
   "execution_count": 85,
   "metadata": {},
   "outputs": [
    {
     "name": "stdout",
     "output_type": "stream",
     "text": [
      "Normalized confusion matrix\n",
      "[[0.62162162 0.01351351 0.36486486]\n",
      " [0.00884956 0.74336283 0.24778761]\n",
      " [0.20547945 0.17123288 0.62328767]]\n"
     ]
    },
    {
     "data": {
      "text/plain": [
       "<matplotlib.axes._subplots.AxesSubplot at 0x1a21abe510>"
      ]
     },
     "execution_count": 85,
     "metadata": {},
     "output_type": "execute_result"
    },
    {
     "data": {
      "image/png": "[encoded data removed]",
      "text/plain": [
       "<Figure size 360x360 with 2 Axes>"
      ]
     },
     "metadata": {},
     "output_type": "display_data"
    }
   ],
   "source": [
    "\n",
    "plot_confusion_matrix(y_pred, Y_test, classes=le.classes_, normalize=True,\n",
    "                      title='Confusion matrix with normalization')\n"
   ]
  },
  {
   "cell_type": "markdown",
   "metadata": {},
   "source": [
    "### K-NN Classifier\n",
    "---"
   ]
  },
  {
   "cell_type": "code",
   "execution_count": 86,
   "metadata": {},
   "outputs": [
    {
     "name": "stdout",
     "output_type": "stream",
     "text": [
      "Accuracy :  0.6636636636636637\n"
     ]
    }
   ],
   "source": [
    "\n",
    "\n",
    "clf = KNeighborsClassifier(n_neighbors=10)\n",
    "clf.fit(X_train, Y_train)\n",
    "\n",
    "y_pred = clf.predict(X_test)\n",
    "_score = accuracy_score(Y_test, y_pred, normalize=True)\n",
    "print(\"Accuracy : \", _score)\n"
   ]
  },
  {
   "cell_type": "markdown",
   "metadata": {},
   "source": []
  },
  {
   "cell_type": "code",
   "execution_count": 87,
   "metadata": {},
   "outputs": [
    {
     "name": "stdout",
     "output_type": "stream",
     "text": [
      "Accuracy :  0.5255255255255256\n"
     ]
    }
   ],
   "source": [
    "\n",
    "clf = tree.DecisionTreeClassifier()\n",
    "clf.fit(X_train, Y_train)\n",
    "\n",
    "y_pred = clf.predict(X_test)\n",
    "_score = accuracy_score(Y_test, y_pred, normalize=True)\n",
    "print(\"Accuracy : \", _score)"
   ]
  },
  {
   "cell_type": "markdown",
   "metadata": {},
   "source": [
    "#### SVM and K-NN seem to work best for this problem"
   ]
  }
 ],
 "metadata": {
  "file_extension": ".py",
  "kernelspec": {
   "display_name": "Python 3",
   "language": "python",
   "name": "python3"
  },
  "language_info": {
   "codemirror_mode": {
    "name": "ipython",
    "version": 3
   },
   "file_extension": ".py",
   "mimetype": "text/x-python",
   "name": "python",
   "nbconvert_exporter": "python",
   "pygments_lexer": "ipython3",
   "version": "3.7.4"
  },
  "mimetype": "text/x-python",
  "name": "python",
  "npconvert_exporter": "python",
  "pygments_lexer": "ipython3",
  "version": 3
 },
 "nbformat": 4,
 "nbformat_minor": 4
}
